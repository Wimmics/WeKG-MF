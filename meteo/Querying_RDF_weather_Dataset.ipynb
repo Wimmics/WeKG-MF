{
  "nbformat": 4,
  "nbformat_minor": 5,
  "metadata": {
    "kernelspec": {
      "display_name": "Python 3",
      "language": "python",
      "name": "python3"
    },
    "language_info": {
      "codemirror_mode": {
        "name": "ipython",
        "version": 3
      },
      "file_extension": ".py",
      "mimetype": "text/x-python",
      "name": "python",
      "nbconvert_exporter": "python",
      "pygments_lexer": "ipython3",
      "version": "3.8.8"
    },
    "colab": {
      "name": "Querying RDF weather Dataset.ipynb",
      "provenance": []
    }
  },
  "cells": [
    {
      "cell_type": "markdown",
      "metadata": {
        "id": "04ec69e2"
      },
      "source": [
        "## Querying the RDF Weather dataset"
      ],
      "id": "04ec69e2"
    },
    {
      "cell_type": "raw",
      "metadata": {
        "id": "f7e8e1f1"
      },
      "source": [
        "This notebook is intended to help a user querying the RDF weather dataset. Note that meteorological observations included in this dataset cover the period of time from the 1st January. \n",
        "\n",
        "The RDF dump of the weather dataset is loaded in virtuoso quad store.  "
      ],
      "id": "f7e8e1f1"
    },
    {
      "cell_type": "code",
      "metadata": {
        "id": "ef2790df"
      },
      "source": [
        "import pandas as pd\n",
        "import matplotlib.pyplot as plt\n",
        "from matplotlib.dates import MonthLocator, DayLocator, DateFormatter\n",
        "from SPARQLWrapper import SPARQLWrapper, JSON\n",
        "import date"
      ],
      "id": "ef2790df",
      "execution_count": null,
      "outputs": []
    },
    {
      "cell_type": "code",
      "metadata": {
        "id": "dfa92403",
        "outputId": "e11d5a6e-4dc6-438b-bb6c-94a080524af4"
      },
      "source": [
        "pip install SPARQLWrapper"
      ],
      "id": "dfa92403",
      "execution_count": null,
      "outputs": [
        {
          "name": "stdout",
          "output_type": "stream",
          "text": [
            "Requirement already satisfied: SPARQLWrapper in ./opt/anaconda3/lib/python3.8/site-packages (1.8.5)\n",
            "Requirement already satisfied: rdflib>=4.0 in ./opt/anaconda3/lib/python3.8/site-packages (from SPARQLWrapper) (6.0.2)\n",
            "Requirement already satisfied: isodate in ./opt/anaconda3/lib/python3.8/site-packages (from rdflib>=4.0->SPARQLWrapper) (0.6.0)\n",
            "Requirement already satisfied: setuptools in ./opt/anaconda3/lib/python3.8/site-packages (from rdflib>=4.0->SPARQLWrapper) (52.0.0.post20210125)\n",
            "Requirement already satisfied: pyparsing in ./opt/anaconda3/lib/python3.8/site-packages (from rdflib>=4.0->SPARQLWrapper) (2.4.7)\n",
            "Requirement already satisfied: six in ./opt/anaconda3/lib/python3.8/site-packages (from isodate->rdflib>=4.0->SPARQLWrapper) (1.15.0)\n",
            "Note: you may need to restart the kernel to use updated packages.\n"
          ]
        }
      ]
    },
    {
      "cell_type": "code",
      "metadata": {
        "id": "1cd4df27"
      },
      "source": [
        "def sparql_to_dataframe(endpoint, query):\n",
        "    \"\"\"\n",
        "    Convert SPARQL results into a Pandas DataFrame.\n",
        "    Credit: https://lawlesst.github.io/notebook/sparql-dataframe.html\n",
        "    \"\"\"\n",
        "    sparql = SPARQLWrapper(endpoint)\n",
        "    sparql.setQuery(query)\n",
        "    sparql.setReturnFormat(JSON)\n",
        "    results = sparql.queryAndConvert()\n",
        "\n",
        "    cols = results['head']['vars']\n",
        "    out = []\n",
        "    for row in results['results']['bindings']:\n",
        "        item = []\n",
        "        for c in cols:\n",
        "            item.append(row.get(c, {}).get('value'))\n",
        "        out.append(item)\n",
        "\n",
        "    return pd.DataFrame(out, columns=cols)\n"
      ],
      "id": "1cd4df27",
      "execution_count": null,
      "outputs": []
    },
    {
      "cell_type": "markdown",
      "metadata": {
        "id": "6f58d31c"
      },
      "source": [
        "endpoint = 'http://localhost:8890/sparql'"
      ],
      "id": "6f58d31c"
    },
    {
      "cell_type": "markdown",
      "metadata": {
        "id": "23e6b1f0"
      },
      "source": [
        "# Examples of queries "
      ],
      "id": "23e6b1f0"
    },
    {
      "cell_type": "markdown",
      "metadata": {
        "id": "fb6d9653"
      },
      "source": [
        "#  Query 1 : Retrieve precipitations amount for period of times at a specific station"
      ],
      "id": "fb6d9653"
    },
    {
      "cell_type": "code",
      "metadata": {
        "id": "0293cb74"
      },
      "source": [
        "query = '''\n",
        "PREFIX rdfs: <http://www.w3.org/2000/01/rdf-schema#>\n",
        "PREFIX wd: <http://www.wikidata.org/entity/>\n",
        "PREFIX sosa: <http://www.w3.org/ns/sosa/>\n",
        "PREFIX qudt: <http://qudt.org/schema/qudt/>\n",
        "PREFIX xsd: <http://www.w3.org/2001/XMLSchema#>\n",
        "prefix wep: <http://ns.inria.fr/meteo/ontology/property/>\n",
        "prefix weo: <http://ns.inria.fr/meteo/ontology/>\n",
        "prefix dct: <http://purl.org/dc/terms/>\n",
        "prefix wdt: <http://www.wikidata.org/prop/direct/>\n",
        "\n",
        "select ?datetimestamp (?vt as ?precipitation) where {\n",
        "    ?obs a  <http://ns.inria.fr/meteo/ontology/MeteorologicalObservation> .\n",
        "    ?obs sosa:observedProperty <http://ns.inria.fr/meteo/vocab/weatherproperty/precipitationAmount>.\n",
        "    ?obs sosa:hasSimpleResult ?vt.\n",
        "    ?obs sosa:resultTime ?datetimestamp.\n",
        "    ?obs wep:madeByStation ?x .\n",
        "    ?x rdfs:label ?n ;  weo:stationID ?stationID\n",
        "    FILTER (?stationID = \"07690\")\n",
        "    FILTER (?datetimestamp >= \"2021-01-01T00:00:00\"^^xsd:dateTime)\n",
        "    FILTER (?datetimestamp < \"2021-01-15T00:00:00\"^^xsd:dateTime)}\n",
        "    ORDER BY ?datetimestamp\n",
        "\n",
        "'''\n"
      ],
      "id": "0293cb74",
      "execution_count": null,
      "outputs": []
    },
    {
      "cell_type": "code",
      "metadata": {
        "id": "de1bd1b5",
        "outputId": "fa0d6b37-3205-4b8c-fc10-f3a34f4116ef"
      },
      "source": [
        "%time df = sparql_to_dataframe(endpoint, query)\n",
        "print(df.shape)"
      ],
      "id": "de1bd1b5",
      "execution_count": null,
      "outputs": [
        {
          "name": "stdout",
          "output_type": "stream",
          "text": [
            "CPU times: user 4.9 ms, sys: 4.75 ms, total: 9.64 ms\n",
            "Wall time: 64.3 ms\n",
            "(444, 2)\n"
          ]
        }
      ]
    },
    {
      "cell_type": "markdown",
      "metadata": {
        "id": "2e3bc772"
      },
      "source": [
        "## Visualise Results as a plot "
      ],
      "id": "2e3bc772"
    },
    {
      "cell_type": "code",
      "metadata": {
        "id": "f547591e"
      },
      "source": [
        "df.precipitation = df.precipitation.astype(float)\n",
        "df.datetimestamp = pd.to_datetime(df.datetimestamp)\n",
        "df['date'] = [x.date() for x in df.datetimestamp]\n",
        "df1 = df.groupby('date').mean('precipitation')"
      ],
      "id": "f547591e",
      "execution_count": null,
      "outputs": []
    },
    {
      "cell_type": "code",
      "metadata": {
        "id": "524c3c41",
        "outputId": "fdfa0b7f-ed10-4250-96ef-8c00419795d2"
      },
      "source": [
        "fig, ax = plt.subplots(figsize=(11,7))\n",
        "ax.xaxis.set_major_locator(DayLocator())\n",
        "ax.xaxis.set_major_formatter(DateFormatter('%m-%d '))\n",
        "df1.plot(ax=ax, kind='bar')\n",
        "plt.show()"
      ],
      "id": "524c3c41",
      "execution_count": null,
      "outputs": [
        {
          "data": {
            "image/png": "[encoded data removed]",
            "text/plain": [
              "<Figure size 792x504 with 1 Axes>"
            ]
          },
          "metadata": {
            "needs_background": "light"
          },
          "output_type": "display_data"
        }
      ]
    },
    {
      "cell_type": "markdown",
      "metadata": {
        "id": "ab32f974"
      },
      "source": [
        "# Query 2 : Retrieve mean maximum and minimal temperature in Celsius over a period of time for a specific station"
      ],
      "id": "ab32f974"
    },
    {
      "cell_type": "code",
      "metadata": {
        "id": "93c49591"
      },
      "source": [
        "query2 = '''\n",
        "    #return mean temperature in Celsius for the station \"07690\" \n",
        "    PREFIX sosa: <http://www.w3.org/ns/sosa/>\n",
        "    PREFIX qudt: <http://qudt.org/schema/qudt/>\n",
        "    PREFIX wep: <http://ns.inria.fr/meteo/ontology/property/>\n",
        "    PREFIX rdfs: <http://www.w3.org/2000/01/rdf-schema#>\n",
        "    PREFIX weo: <http://ns.inria.fr/meteo/ontology/>\n",
        "\n",
        "    SELECT  ?datetimestamp ((?v - 273.15) as ?temperature_minimale_en_Celsius)  where {\n",
        "        ?obs a  <http://ns.inria.fr/meteo/ontology/MeteorologicalObservation>;\n",
        "        sosa:observedProperty\n",
        "              <http://ns.inria.fr/meteo/vocab/weatherproperty/minAirTemperature> ;\n",
        "        sosa:hasSimpleResult  ?v;\n",
        "        wep:madeByStation ?station ;\n",
        "        sosa:resultTime ?datetimestamp .\n",
        "        ?station rdfs:label ?n ;  weo:stationID ?stationID\n",
        "        FILTER (?stationID = \"07690\" )\n",
        "        FILTER (?datetimestamp >= \"2021-08-01T00:00:00\"^^xsd:dateTime)\n",
        "        FILTER (?datetimestamp < \"2021-08-31T21:00:00\"^^xsd:dateTime)\n",
        "        } \n",
        "        ORDER BY(?datetimestamp)\n",
        "'''\n",
        "query3 = '''\n",
        "    #return mean temperature in Celsius for the station \"07690\" \n",
        "    PREFIX sosa: <http://www.w3.org/ns/sosa/>\n",
        "    PREFIX qudt: <http://qudt.org/schema/qudt/>\n",
        "    PREFIX wep: <http://ns.inria.fr/meteo/ontology/property/>\n",
        "    PREFIX rdfs: <http://www.w3.org/2000/01/rdf-schema#>\n",
        "    PREFIX weo: <http://ns.inria.fr/meteo/ontology/>\n",
        "\n",
        "    SELECT  ?datetimestamp ((?v - 273.15) as ?temperature_maximale_en_Celsius)  where {\n",
        "        ?obs a  <http://ns.inria.fr/meteo/ontology/MeteorologicalObservation>;\n",
        "        sosa:observedProperty\n",
        "              <http://ns.inria.fr/meteo/vocab/weatherproperty/maxAirTemperature> ;\n",
        "        sosa:hasSimpleResult  ?v;\n",
        "        wep:madeByStation ?station ;\n",
        "        sosa:resultTime ?datetimestamp .\n",
        "        ?station rdfs:label ?n ;  weo:stationID ?stationID\n",
        "        FILTER (?stationID = \"07690\" )\n",
        "        FILTER (?datetimestamp >= \"2021-08-01T00:00:00\"^^xsd:dateTime)\n",
        "        FILTER (?datetimestamp < \"2021-08-31T21:00:00\"^^xsd:dateTime)\n",
        "        \n",
        "        } \n",
        "        ORDER BY(?datetimestamp)\n",
        "'''"
      ],
      "id": "93c49591",
      "execution_count": null,
      "outputs": []
    },
    {
      "cell_type": "code",
      "metadata": {
        "id": "2d75579d",
        "outputId": "9d3d5c05-f48a-4e5c-b5ea-69ea73d2e36a"
      },
      "source": [
        "df2 = sparql_to_dataframe(endpoint, query2)\n",
        "df2['datetimestamp'] = pd.to_datetime(df2.datetimestamp, format='%Y-%m-%d')\n",
        "df2['datetimestamp'] = [x.date() for x in df2.datetimestamp]\n",
        "\n",
        "df2.temperature_minimale_en_Celsius= df2.temperature_minimale_en_Celsius.astype(float)\n",
        "newdf2 = df2.groupby('datetimestamp').mean('temperature_minimale_en_Celsius')\n",
        "newdf2"
      ],
      "id": "2d75579d",
      "execution_count": null,
      "outputs": [
        {
          "data": {
            "text/html": [
              "<div>\n",
              "<style scoped>\n",
              "    .dataframe tbody tr th:only-of-type {\n",
              "        vertical-align: middle;\n",
              "    }\n",
              "\n",
              "    .dataframe tbody tr th {\n",
              "        vertical-align: top;\n",
              "    }\n",
              "\n",
              "    .dataframe thead th {\n",
              "        text-align: right;\n",
              "    }\n",
              "</style>\n",
              "<table border=\"1\" class=\"dataframe\">\n",
              "  <thead>\n",
              "    <tr style=\"text-align: right;\">\n",
              "      <th></th>\n",
              "      <th>temperature_minimale_en_Celsius</th>\n",
              "    </tr>\n",
              "    <tr>\n",
              "      <th>datetimestamp</th>\n",
              "      <th></th>\n",
              "    </tr>\n",
              "  </thead>\n",
              "  <tbody>\n",
              "    <tr>\n",
              "      <th>2021-08-01</th>\n",
              "      <td>22.25</td>\n",
              "    </tr>\n",
              "    <tr>\n",
              "      <th>2021-08-02</th>\n",
              "      <td>21.70</td>\n",
              "    </tr>\n",
              "    <tr>\n",
              "      <th>2021-08-03</th>\n",
              "      <td>20.10</td>\n",
              "    </tr>\n",
              "    <tr>\n",
              "      <th>2021-08-04</th>\n",
              "      <td>21.25</td>\n",
              "    </tr>\n",
              "    <tr>\n",
              "      <th>2021-08-05</th>\n",
              "      <td>19.40</td>\n",
              "    </tr>\n",
              "    <tr>\n",
              "      <th>2021-08-06</th>\n",
              "      <td>20.95</td>\n",
              "    </tr>\n",
              "    <tr>\n",
              "      <th>2021-08-07</th>\n",
              "      <td>21.00</td>\n",
              "    </tr>\n",
              "    <tr>\n",
              "      <th>2021-08-08</th>\n",
              "      <td>21.20</td>\n",
              "    </tr>\n",
              "    <tr>\n",
              "      <th>2021-08-09</th>\n",
              "      <td>21.20</td>\n",
              "    </tr>\n",
              "    <tr>\n",
              "      <th>2021-08-10</th>\n",
              "      <td>23.60</td>\n",
              "    </tr>\n",
              "    <tr>\n",
              "      <th>2021-08-11</th>\n",
              "      <td>25.05</td>\n",
              "    </tr>\n",
              "    <tr>\n",
              "      <th>2021-08-12</th>\n",
              "      <td>24.55</td>\n",
              "    </tr>\n",
              "    <tr>\n",
              "      <th>2021-08-13</th>\n",
              "      <td>26.70</td>\n",
              "    </tr>\n",
              "    <tr>\n",
              "      <th>2021-08-14</th>\n",
              "      <td>27.10</td>\n",
              "    </tr>\n",
              "    <tr>\n",
              "      <th>2021-08-15</th>\n",
              "      <td>24.70</td>\n",
              "    </tr>\n",
              "    <tr>\n",
              "      <th>2021-08-16</th>\n",
              "      <td>24.20</td>\n",
              "    </tr>\n",
              "    <tr>\n",
              "      <th>2021-08-17</th>\n",
              "      <td>23.75</td>\n",
              "    </tr>\n",
              "    <tr>\n",
              "      <th>2021-08-18</th>\n",
              "      <td>23.55</td>\n",
              "    </tr>\n",
              "    <tr>\n",
              "      <th>2021-08-19</th>\n",
              "      <td>23.25</td>\n",
              "    </tr>\n",
              "    <tr>\n",
              "      <th>2021-08-20</th>\n",
              "      <td>23.10</td>\n",
              "    </tr>\n",
              "    <tr>\n",
              "      <th>2021-08-21</th>\n",
              "      <td>23.05</td>\n",
              "    </tr>\n",
              "    <tr>\n",
              "      <th>2021-08-22</th>\n",
              "      <td>22.90</td>\n",
              "    </tr>\n",
              "    <tr>\n",
              "      <th>2021-08-23</th>\n",
              "      <td>22.75</td>\n",
              "    </tr>\n",
              "    <tr>\n",
              "      <th>2021-08-24</th>\n",
              "      <td>19.85</td>\n",
              "    </tr>\n",
              "    <tr>\n",
              "      <th>2021-08-25</th>\n",
              "      <td>19.90</td>\n",
              "    </tr>\n",
              "    <tr>\n",
              "      <th>2021-08-26</th>\n",
              "      <td>20.65</td>\n",
              "    </tr>\n",
              "    <tr>\n",
              "      <th>2021-08-27</th>\n",
              "      <td>20.05</td>\n",
              "    </tr>\n",
              "    <tr>\n",
              "      <th>2021-08-28</th>\n",
              "      <td>20.55</td>\n",
              "    </tr>\n",
              "    <tr>\n",
              "      <th>2021-08-29</th>\n",
              "      <td>20.20</td>\n",
              "    </tr>\n",
              "    <tr>\n",
              "      <th>2021-08-30</th>\n",
              "      <td>19.50</td>\n",
              "    </tr>\n",
              "    <tr>\n",
              "      <th>2021-08-31</th>\n",
              "      <td>19.00</td>\n",
              "    </tr>\n",
              "  </tbody>\n",
              "</table>\n",
              "</div>"
            ],
            "text/plain": [
              "               temperature_minimale_en_Celsius\n",
              "datetimestamp                                 \n",
              "2021-08-01                               22.25\n",
              "2021-08-02                               21.70\n",
              "2021-08-03                               20.10\n",
              "2021-08-04                               21.25\n",
              "2021-08-05                               19.40\n",
              "2021-08-06                               20.95\n",
              "2021-08-07                               21.00\n",
              "2021-08-08                               21.20\n",
              "2021-08-09                               21.20\n",
              "2021-08-10                               23.60\n",
              "2021-08-11                               25.05\n",
              "2021-08-12                               24.55\n",
              "2021-08-13                               26.70\n",
              "2021-08-14                               27.10\n",
              "2021-08-15                               24.70\n",
              "2021-08-16                               24.20\n",
              "2021-08-17                               23.75\n",
              "2021-08-18                               23.55\n",
              "2021-08-19                               23.25\n",
              "2021-08-20                               23.10\n",
              "2021-08-21                               23.05\n",
              "2021-08-22                               22.90\n",
              "2021-08-23                               22.75\n",
              "2021-08-24                               19.85\n",
              "2021-08-25                               19.90\n",
              "2021-08-26                               20.65\n",
              "2021-08-27                               20.05\n",
              "2021-08-28                               20.55\n",
              "2021-08-29                               20.20\n",
              "2021-08-30                               19.50\n",
              "2021-08-31                               19.00"
            ]
          },
          "execution_count": 283,
          "metadata": {},
          "output_type": "execute_result"
        }
      ]
    },
    {
      "cell_type": "code",
      "metadata": {
        "id": "92d2aa4f",
        "outputId": "63444629-82f8-4783-fa4d-791c4706c208"
      },
      "source": [
        "df3 = sparql_to_dataframe(endpoint, query3)\n",
        "df3['datetimestamp'] = pd.to_datetime(df3.datetimestamp, format='%Y-%m-%d')\n",
        "df3['datetimestamp'] = [x.date() for x in df3.datetimestamp]\n",
        "df3.temperature_maximale_en_Celsius= df3.temperature_maximale_en_Celsius.astype(float)\n",
        "newdf3 = df3.groupby('datetimestamp').mean('temperature_maximale_en_Celsius')\n",
        "newdf3.head()\n"
      ],
      "id": "92d2aa4f",
      "execution_count": null,
      "outputs": [
        {
          "data": {
            "text/html": [
              "<div>\n",
              "<style scoped>\n",
              "    .dataframe tbody tr th:only-of-type {\n",
              "        vertical-align: middle;\n",
              "    }\n",
              "\n",
              "    .dataframe tbody tr th {\n",
              "        vertical-align: top;\n",
              "    }\n",
              "\n",
              "    .dataframe thead th {\n",
              "        text-align: right;\n",
              "    }\n",
              "</style>\n",
              "<table border=\"1\" class=\"dataframe\">\n",
              "  <thead>\n",
              "    <tr style=\"text-align: right;\">\n",
              "      <th></th>\n",
              "      <th>temperature_maximale_en_Celsius</th>\n",
              "    </tr>\n",
              "    <tr>\n",
              "      <th>datetimestamp</th>\n",
              "      <th></th>\n",
              "    </tr>\n",
              "  </thead>\n",
              "  <tbody>\n",
              "    <tr>\n",
              "      <th>2021-08-01</th>\n",
              "      <td>29.1</td>\n",
              "    </tr>\n",
              "    <tr>\n",
              "      <th>2021-08-02</th>\n",
              "      <td>27.9</td>\n",
              "    </tr>\n",
              "    <tr>\n",
              "      <th>2021-08-03</th>\n",
              "      <td>25.4</td>\n",
              "    </tr>\n",
              "    <tr>\n",
              "      <th>2021-08-04</th>\n",
              "      <td>24.0</td>\n",
              "    </tr>\n",
              "    <tr>\n",
              "      <th>2021-08-05</th>\n",
              "      <td>24.8</td>\n",
              "    </tr>\n",
              "  </tbody>\n",
              "</table>\n",
              "</div>"
            ],
            "text/plain": [
              "               temperature_maximale_en_Celsius\n",
              "datetimestamp                                 \n",
              "2021-08-01                                29.1\n",
              "2021-08-02                                27.9\n",
              "2021-08-03                                25.4\n",
              "2021-08-04                                24.0\n",
              "2021-08-05                                24.8"
            ]
          },
          "execution_count": 297,
          "metadata": {},
          "output_type": "execute_result"
        }
      ]
    },
    {
      "cell_type": "code",
      "metadata": {
        "id": "b467e2c5",
        "outputId": "bb74c2bb-7b6a-46dc-fc00-88a3bb785e9f"
      },
      "source": [
        "df = newdf3.join(newdf2)\n",
        "df.head()"
      ],
      "id": "b467e2c5",
      "execution_count": null,
      "outputs": [
        {
          "data": {
            "text/html": [
              "<div>\n",
              "<style scoped>\n",
              "    .dataframe tbody tr th:only-of-type {\n",
              "        vertical-align: middle;\n",
              "    }\n",
              "\n",
              "    .dataframe tbody tr th {\n",
              "        vertical-align: top;\n",
              "    }\n",
              "\n",
              "    .dataframe thead th {\n",
              "        text-align: right;\n",
              "    }\n",
              "</style>\n",
              "<table border=\"1\" class=\"dataframe\">\n",
              "  <thead>\n",
              "    <tr style=\"text-align: right;\">\n",
              "      <th></th>\n",
              "      <th>temperature_maximale_en_Celsius</th>\n",
              "      <th>temperature_minimale_en_Celsius</th>\n",
              "    </tr>\n",
              "    <tr>\n",
              "      <th>datetimestamp</th>\n",
              "      <th></th>\n",
              "      <th></th>\n",
              "    </tr>\n",
              "  </thead>\n",
              "  <tbody>\n",
              "    <tr>\n",
              "      <th>2021-08-01</th>\n",
              "      <td>29.1</td>\n",
              "      <td>22.25</td>\n",
              "    </tr>\n",
              "    <tr>\n",
              "      <th>2021-08-02</th>\n",
              "      <td>27.9</td>\n",
              "      <td>21.70</td>\n",
              "    </tr>\n",
              "    <tr>\n",
              "      <th>2021-08-03</th>\n",
              "      <td>25.4</td>\n",
              "      <td>20.10</td>\n",
              "    </tr>\n",
              "    <tr>\n",
              "      <th>2021-08-04</th>\n",
              "      <td>24.0</td>\n",
              "      <td>21.25</td>\n",
              "    </tr>\n",
              "    <tr>\n",
              "      <th>2021-08-05</th>\n",
              "      <td>24.8</td>\n",
              "      <td>19.40</td>\n",
              "    </tr>\n",
              "  </tbody>\n",
              "</table>\n",
              "</div>"
            ],
            "text/plain": [
              "               temperature_maximale_en_Celsius  \\\n",
              "datetimestamp                                    \n",
              "2021-08-01                                29.1   \n",
              "2021-08-02                                27.9   \n",
              "2021-08-03                                25.4   \n",
              "2021-08-04                                24.0   \n",
              "2021-08-05                                24.8   \n",
              "\n",
              "               temperature_minimale_en_Celsius  \n",
              "datetimestamp                                   \n",
              "2021-08-01                               22.25  \n",
              "2021-08-02                               21.70  \n",
              "2021-08-03                               20.10  \n",
              "2021-08-04                               21.25  \n",
              "2021-08-05                               19.40  "
            ]
          },
          "execution_count": 298,
          "metadata": {},
          "output_type": "execute_result"
        }
      ]
    },
    {
      "cell_type": "markdown",
      "metadata": {
        "id": "d7a2d494"
      },
      "source": [
        "## Visualise Results as a plot "
      ],
      "id": "d7a2d494"
    },
    {
      "cell_type": "code",
      "metadata": {
        "id": "504040e4",
        "outputId": "61c4ba4f-9287-4b15-cd00-7fe9cb7292ce"
      },
      "source": [
        "#print(final_df.tail())\n",
        "#print(final_df.shape)\n",
        "\n",
        "fig, ax = plt.subplots(figsize=(12,7))\n",
        "ax.xaxis.set_major_locator(DayLocator())\n",
        "ax.xaxis.set_major_formatter(DateFormatter('%d'))\n",
        "df.plot(ax=ax)\n",
        "plt.show()"
      ],
      "id": "504040e4",
      "execution_count": null,
      "outputs": [
        {
          "data": {
            "image/png": "[encoded data removed]",
            "text/plain": [
              "<Figure size 864x504 with 1 Axes>"
            ]
          },
          "metadata": {
            "needs_background": "light"
          },
          "output_type": "display_data"
        }
      ]
    },
    {
      "cell_type": "markdown",
      "metadata": {
        "id": "05a38a4a"
      },
      "source": [
        "# Query 2 : Retrieve the most close SYNOP station based on geospatial coordinates a place"
      ],
      "id": "05a38a4a"
    },
    {
      "cell_type": "code",
      "metadata": {
        "id": "001890e4"
      },
      "source": [
        "pip install folium"
      ],
      "id": "001890e4",
      "execution_count": null,
      "outputs": []
    },
    {
      "cell_type": "code",
      "metadata": {
        "id": "4b1adab3"
      },
      "source": [
        "query = '''\n",
        "    PREFIX rdfs: <http://www.w3.org/2000/01/rdf-schema#>\n",
        "    PREFIX geosparql: <http://www.opengis.net/ont/geosparql#>\n",
        "    PREFIX geof: <http://www.opengis.net/def/function/geosparql/>\n",
        "    PREFIX uom: <http://www.opengis.net/def/uom/OGC/1.0/>\n",
        "    PREFIX geo: <http://www.w3.org/2003/01/geo/wgs84_pos#>\n",
        "\n",
        "    select  ?label ?x ?lat ?long ?coordinates ?distance where {\n",
        "        ?x rdfs:label ?label .\n",
        "        ?x geosparql:hasGeometry [ geosparql:asWKT ?coordinates].\n",
        "        ?x geo:lat ?lat .\n",
        "        ?x geo:long ?long .\n",
        "        BIND (geof:distance(?coordinates, \"Point(7.123055555 43.58)\"^^geosparql:wktLiteral, uom:metre) as ?distance)      \n",
        "\n",
        "    }\n",
        "    ORDER BY ?distance\n",
        "    LIMIT 1\n",
        "\n",
        "'''"
      ],
      "id": "4b1adab3",
      "execution_count": null,
      "outputs": []
    },
    {
      "cell_type": "code",
      "metadata": {
        "id": "9b1ced3d"
      },
      "source": [
        "df = sparql_to_dataframe(endpoint, query)"
      ],
      "id": "9b1ced3d",
      "execution_count": null,
      "outputs": []
    },
    {
      "cell_type": "code",
      "metadata": {
        "id": "1d034bbc",
        "outputId": "b71e7ebc-c1dd-42d4-d41a-05f7c058cc40"
      },
      "source": [
        "df"
      ],
      "id": "1d034bbc",
      "execution_count": null,
      "outputs": [
        {
          "data": {
            "text/html": [
              "<div>\n",
              "<style scoped>\n",
              "    .dataframe tbody tr th:only-of-type {\n",
              "        vertical-align: middle;\n",
              "    }\n",
              "\n",
              "    .dataframe tbody tr th {\n",
              "        vertical-align: top;\n",
              "    }\n",
              "\n",
              "    .dataframe thead th {\n",
              "        text-align: right;\n",
              "    }\n",
              "</style>\n",
              "<table border=\"1\" class=\"dataframe\">\n",
              "  <thead>\n",
              "    <tr style=\"text-align: right;\">\n",
              "      <th></th>\n",
              "      <th>label</th>\n",
              "      <th>x</th>\n",
              "      <th>lat</th>\n",
              "      <th>long</th>\n",
              "      <th>coordinates</th>\n",
              "      <th>distance</th>\n",
              "    </tr>\n",
              "  </thead>\n",
              "  <tbody>\n",
              "    <tr>\n",
              "      <th>0</th>\n",
              "      <td>NICE</td>\n",
              "      <td>http://ns.inria.fr/meteo/weatherstation/07690</td>\n",
              "      <td>43.648833</td>\n",
              "      <td>7.209</td>\n",
              "      <td>POINT(7.2090001106262 43.648834228516)</td>\n",
              "      <td>10312.0</td>\n",
              "    </tr>\n",
              "  </tbody>\n",
              "</table>\n",
              "</div>"
            ],
            "text/plain": [
              "  label                                              x        lat   long  \\\n",
              "0  NICE  http://ns.inria.fr/meteo/weatherstation/07690  43.648833  7.209   \n",
              "\n",
              "                              coordinates distance  \n",
              "0  POINT(7.2090001106262 43.648834228516)  10312.0  "
            ]
          },
          "execution_count": 250,
          "metadata": {},
          "output_type": "execute_result"
        }
      ]
    },
    {
      "cell_type": "code",
      "metadata": {
        "id": "20e6c710"
      },
      "source": [
        "import folium"
      ],
      "id": "20e6c710",
      "execution_count": null,
      "outputs": []
    },
    {
      "cell_type": "code",
      "metadata": {
        "id": "69ca3236",
        "outputId": "7f8a308d-435f-4505-9218-2407c52a24b3"
      },
      "source": [
        "distance = str(float(df.distance)/1000)+\" km\" \n",
        "distance\n",
        "\n",
        "station = df['label']\n"
      ],
      "id": "69ca3236",
      "execution_count": null,
      "outputs": [
        {
          "data": {
            "text/plain": [
              "'0    NICE\\nName: label, dtype: object'"
            ]
          },
          "execution_count": 268,
          "metadata": {},
          "output_type": "execute_result"
        }
      ]
    },
    {
      "cell_type": "code",
      "metadata": {
        "id": "ba46ffe4",
        "outputId": "b31ccdff-ee57-48e2-c51f-188e4a438a32"
      },
      "source": [
        "my_map = folium.Map(location=[43.58, 7.123055555],\n",
        "                    zoom_start = 10)\n",
        "long = df.long\n",
        "lat = df.lat\n",
        "\n",
        "coordinates = [[43.58, 7.123055555], [lat,long]]\n",
        "folium.Marker([43.58, 7.123055555]).add_to(my_map)\n",
        "\n",
        "folium.Marker([lat, long],\n",
        "              icon=folium.Icon(color='green')).add_to(my_map)\n",
        "folium.PolyLine(coordinates, popup = distance).add_to(my_map)"
      ],
      "id": "ba46ffe4",
      "execution_count": null,
      "outputs": [
        {
          "data": {
            "text/plain": [
              "<folium.vector_layers.PolyLine at 0x7fb81cd55820>"
            ]
          },
          "execution_count": 269,
          "metadata": {},
          "output_type": "execute_result"
        }
      ]
    },
    {
      "cell_type": "code",
      "metadata": {
        "scrolled": true,
        "id": "1c09013b",
        "outputId": "ba8cfd83-7e9c-408d-838e-c95ba9a4af67"
      },
      "source": [
        "my_map"
      ],
      "id": "1c09013b",
      "execution_count": null,
      "outputs": [
        {
          "data": {
            "text/html": [
              "<div style=\"width:100%;\"><div style=\"position:relative;width:100%;height:0;padding-bottom:60%;\"><span style=\"color:#565656\">Make this Notebook Trusted to load map: File -> Trust Notebook</span><iframe src=\"about:blank\" style=\"position:absolute;width:100%;height:100%;left:0;top:0;border:none !important;\" data-html=%3C%21DOCTYPE%20html%3E%0A%3Chead%3E%20%20%20%20%0A%20%20%20%20%3Cmeta%20http-equiv%3D%22content-type%22%20content%3D%22text/html%3B%20charset%3DUTF-8%22%20/%3E%0A%20%20%20%20%0A%20%20%20%20%20%20%20%20%3Cscript%3E%0A%20%20%20%20%20%20%20%20%20%20%20%20L_NO_TOUCH%20%3D%20false%3B%0A%20%20%20%20%20%20%20%20%20%20%20%20L_DISABLE_3D%20%3D%20false%3B%0A%20%20%20%20%20%20%20%20%3C/script%3E%0A%20%20%20%20%0A%20%20%20%20%3Cstyle%3Ehtml%2C%20body%20%7Bwidth%3A%20100%25%3Bheight%3A%20100%25%3Bmargin%3A%200%3Bpadding%3A%200%3B%7D%3C/style%3E%0A%20%20%20%20%3Cstyle%3E%23map%20%7Bposition%3Aabsolute%3Btop%3A0%3Bbottom%3A0%3Bright%3A0%3Bleft%3A0%3B%7D%3C/style%3E%0A%20%20%20%20%3Cscript%20src%3D%22https%3A//cdn.jsdelivr.net/npm/leaflet%401.6.0/dist/leaflet.js%22%3E%3C/script%3E%0A%20%20%20%20%3Cscript%20src%3D%22https%3A//code.jquery.com/jquery-1.12.4.min.js%22%3E%3C/script%3E%0A%20%20%20%20%3Cscript%20src%3D%22https%3A//maxcdn.bootstrapcdn.com/bootstrap/3.2.0/js/bootstrap.min.js%22%3E%3C/script%3E%0A%20%20%20%20%3Cscript%20src%3D%22https%3A//cdnjs.cloudflare.com/ajax/libs/Leaflet.awesome-markers/2.0.2/leaflet.awesome-markers.js%22%3E%3C/script%3E%0A%20%20%20%20%3Clink%20rel%3D%22stylesheet%22%20href%3D%22https%3A//cdn.jsdelivr.net/npm/leaflet%401.6.0/dist/leaflet.css%22/%3E%0A%20%20%20%20%3Clink%20rel%3D%22stylesheet%22%20href%3D%22https%3A//maxcdn.bootstrapcdn.com/bootstrap/3.2.0/css/bootstrap.min.css%22/%3E%0A%20%20%20%20%3Clink%20rel%3D%22stylesheet%22%20href%3D%22https%3A//maxcdn.bootstrapcdn.com/bootstrap/3.2.0/css/bootstrap-theme.min.css%22/%3E%0A%20%20%20%20%3Clink%20rel%3D%22stylesheet%22%20href%3D%22https%3A//maxcdn.bootstrapcdn.com/font-awesome/4.6.3/css/font-awesome.min.css%22/%3E%0A%20%20%20%20%3Clink%20rel%3D%22stylesheet%22%20href%3D%22https%3A//cdnjs.cloudflare.com/ajax/libs/Leaflet.awesome-markers/2.0.2/leaflet.awesome-markers.css%22/%3E%0A%20%20%20%20%3Clink%20rel%3D%22stylesheet%22%20href%3D%22https%3A//cdn.jsdelivr.net/gh/python-visualization/folium/folium/templates/leaflet.awesome.rotate.min.css%22/%3E%0A%20%20%20%20%0A%20%20%20%20%20%20%20%20%20%20%20%20%3Cmeta%20name%3D%22viewport%22%20content%3D%22width%3Ddevice-width%2C%0A%20%20%20%20%20%20%20%20%20%20%20%20%20%20%20%20initial-scale%3D1.0%2C%20maximum-scale%3D1.0%2C%20user-scalable%3Dno%22%20/%3E%0A%20%20%20%20%20%20%20%20%20%20%20%20%3Cstyle%3E%0A%20%20%20%20%20%20%20%20%20%20%20%20%20%20%20%20%23map_0a6a9851705043f9a1416c001b069317%20%7B%0A%20%20%20%20%20%20%20%20%20%20%20%20%20%20%20%20%20%20%20%20position%3A%20relative%3B%0A%20%20%20%20%20%20%20%20%20%20%20%20%20%20%20%20%20%20%20%20width%3A%20100.0%25%3B%0A%20%20%20%20%20%20%20%20%20%20%20%20%20%20%20%20%20%20%20%20height%3A%20100.0%25%3B%0A%20%20%20%20%20%20%20%20%20%20%20%20%20%20%20%20%20%20%20%20left%3A%200.0%25%3B%0A%20%20%20%20%20%20%20%20%20%20%20%20%20%20%20%20%20%20%20%20top%3A%200.0%25%3B%0A%20%20%20%20%20%20%20%20%20%20%20%20%20%20%20%20%7D%0A%20%20%20%20%20%20%20%20%20%20%20%20%3C/style%3E%0A%20%20%20%20%20%20%20%20%0A%3C/head%3E%0A%3Cbody%3E%20%20%20%20%0A%20%20%20%20%0A%20%20%20%20%20%20%20%20%20%20%20%20%3Cdiv%20class%3D%22folium-map%22%20id%3D%22map_0a6a9851705043f9a1416c001b069317%22%20%3E%3C/div%3E%0A%20%20%20%20%20%20%20%20%0A%3C/body%3E%0A%3Cscript%3E%20%20%20%20%0A%20%20%20%20%0A%20%20%20%20%20%20%20%20%20%20%20%20var%20map_0a6a9851705043f9a1416c001b069317%20%3D%20L.map%28%0A%20%20%20%20%20%20%20%20%20%20%20%20%20%20%20%20%22map_0a6a9851705043f9a1416c001b069317%22%2C%0A%20%20%20%20%20%20%20%20%20%20%20%20%20%20%20%20%7B%0A%20%20%20%20%20%20%20%20%20%20%20%20%20%20%20%20%20%20%20%20center%3A%20%5B43.58%2C%207.123055555%5D%2C%0A%20%20%20%20%20%20%20%20%20%20%20%20%20%20%20%20%20%20%20%20crs%3A%20L.CRS.EPSG3857%2C%0A%20%20%20%20%20%20%20%20%20%20%20%20%20%20%20%20%20%20%20%20zoom%3A%2010%2C%0A%20%20%20%20%20%20%20%20%20%20%20%20%20%20%20%20%20%20%20%20zoomControl%3A%20true%2C%0A%20%20%20%20%20%20%20%20%20%20%20%20%20%20%20%20%20%20%20%20preferCanvas%3A%20false%2C%0A%20%20%20%20%20%20%20%20%20%20%20%20%20%20%20%20%7D%0A%20%20%20%20%20%20%20%20%20%20%20%20%29%3B%0A%0A%20%20%20%20%20%20%20%20%20%20%20%20%0A%0A%20%20%20%20%20%20%20%20%0A%20%20%20%20%0A%20%20%20%20%20%20%20%20%20%20%20%20var%20tile_layer_8aa2890b0ab348748b53b1a85967e770%20%3D%20L.tileLayer%28%0A%20%20%20%20%20%20%20%20%20%20%20%20%20%20%20%20%22https%3A//%7Bs%7D.tile.openstreetmap.org/%7Bz%7D/%7Bx%7D/%7By%7D.png%22%2C%0A%20%20%20%20%20%20%20%20%20%20%20%20%20%20%20%20%7B%22attribution%22%3A%20%22Data%20by%20%5Cu0026copy%3B%20%5Cu003ca%20href%3D%5C%22http%3A//openstreetmap.org%5C%22%5Cu003eOpenStreetMap%5Cu003c/a%5Cu003e%2C%20under%20%5Cu003ca%20href%3D%5C%22http%3A//www.openstreetmap.org/copyright%5C%22%5Cu003eODbL%5Cu003c/a%5Cu003e.%22%2C%20%22detectRetina%22%3A%20false%2C%20%22maxNativeZoom%22%3A%2018%2C%20%22maxZoom%22%3A%2018%2C%20%22minZoom%22%3A%200%2C%20%22noWrap%22%3A%20false%2C%20%22opacity%22%3A%201%2C%20%22subdomains%22%3A%20%22abc%22%2C%20%22tms%22%3A%20false%7D%0A%20%20%20%20%20%20%20%20%20%20%20%20%29.addTo%28map_0a6a9851705043f9a1416c001b069317%29%3B%0A%20%20%20%20%20%20%20%20%0A%20%20%20%20%0A%20%20%20%20%20%20%20%20%20%20%20%20var%20marker_9113503b32d54bf7bda1423436c0e4d7%20%3D%20L.marker%28%0A%20%20%20%20%20%20%20%20%20%20%20%20%20%20%20%20%5B43.58%2C%207.123055555%5D%2C%0A%20%20%20%20%20%20%20%20%20%20%20%20%20%20%20%20%7B%7D%0A%20%20%20%20%20%20%20%20%20%20%20%20%29.addTo%28map_0a6a9851705043f9a1416c001b069317%29%3B%0A%20%20%20%20%20%20%20%20%0A%20%20%20%20%0A%20%20%20%20%20%20%20%20%20%20%20%20var%20marker_db821abd4cd5437188c483704d99689d%20%3D%20L.marker%28%0A%20%20%20%20%20%20%20%20%20%20%20%20%20%20%20%20%5B43.648833%2C%207.209%5D%2C%0A%20%20%20%20%20%20%20%20%20%20%20%20%20%20%20%20%7B%7D%0A%20%20%20%20%20%20%20%20%20%20%20%20%29.addTo%28map_0a6a9851705043f9a1416c001b069317%29%3B%0A%20%20%20%20%20%20%20%20%0A%20%20%20%20%0A%20%20%20%20%20%20%20%20%20%20%20%20var%20icon_6f61a35d480f423099509ed6de0271b4%20%3D%20L.AwesomeMarkers.icon%28%0A%20%20%20%20%20%20%20%20%20%20%20%20%20%20%20%20%7B%22extraClasses%22%3A%20%22fa-rotate-0%22%2C%20%22icon%22%3A%20%22info-sign%22%2C%20%22iconColor%22%3A%20%22white%22%2C%20%22markerColor%22%3A%20%22green%22%2C%20%22prefix%22%3A%20%22glyphicon%22%7D%0A%20%20%20%20%20%20%20%20%20%20%20%20%29%3B%0A%20%20%20%20%20%20%20%20%20%20%20%20marker_db821abd4cd5437188c483704d99689d.setIcon%28icon_6f61a35d480f423099509ed6de0271b4%29%3B%0A%20%20%20%20%20%20%20%20%0A%20%20%20%20%0A%20%20%20%20%20%20%20%20var%20popup_99923d939bfb46d5b870a3fac53c14d5%20%3D%20L.popup%28%7B%22maxWidth%22%3A%20%22100%25%22%7D%29%3B%0A%0A%20%20%20%20%20%20%20%20%0A%20%20%20%20%20%20%20%20%20%20%20%20var%20html_9b29dc3e700148bfbe38d7b5de83709c%20%3D%20%24%28%60%3Cdiv%20id%3D%22html_9b29dc3e700148bfbe38d7b5de83709c%22%20style%3D%22width%3A%20100.0%25%3B%20height%3A%20100.0%25%3B%22%3E0%20%20%20%20NICE%20Name%3A%20label%2C%20dtype%3A%20object%3C/div%3E%60%29%5B0%5D%3B%0A%20%20%20%20%20%20%20%20%20%20%20%20popup_99923d939bfb46d5b870a3fac53c14d5.setContent%28html_9b29dc3e700148bfbe38d7b5de83709c%29%3B%0A%20%20%20%20%20%20%20%20%0A%0A%20%20%20%20%20%20%20%20marker_db821abd4cd5437188c483704d99689d.bindPopup%28popup_99923d939bfb46d5b870a3fac53c14d5%29%0A%20%20%20%20%20%20%20%20%3B%0A%0A%20%20%20%20%20%20%20%20%0A%20%20%20%20%0A%20%20%20%20%0A%20%20%20%20%20%20%20%20%20%20%20%20var%20poly_line_27033979eb004dc3aec5238b09553a3f%20%3D%20L.polyline%28%0A%20%20%20%20%20%20%20%20%20%20%20%20%20%20%20%20%5B%5B43.58%2C%207.123055555%5D%2C%20%5B43.648833%2C%207.209%5D%5D%2C%0A%20%20%20%20%20%20%20%20%20%20%20%20%20%20%20%20%7B%22bubblingMouseEvents%22%3A%20true%2C%20%22color%22%3A%20%22%233388ff%22%2C%20%22dashArray%22%3A%20null%2C%20%22dashOffset%22%3A%20null%2C%20%22fill%22%3A%20false%2C%20%22fillColor%22%3A%20%22%233388ff%22%2C%20%22fillOpacity%22%3A%200.2%2C%20%22fillRule%22%3A%20%22evenodd%22%2C%20%22lineCap%22%3A%20%22round%22%2C%20%22lineJoin%22%3A%20%22round%22%2C%20%22noClip%22%3A%20false%2C%20%22opacity%22%3A%201.0%2C%20%22smoothFactor%22%3A%201.0%2C%20%22stroke%22%3A%20true%2C%20%22weight%22%3A%203%7D%0A%20%20%20%20%20%20%20%20%20%20%20%20%29.addTo%28map_0a6a9851705043f9a1416c001b069317%29%3B%0A%20%20%20%20%20%20%20%20%0A%20%20%20%20%0A%20%20%20%20%20%20%20%20var%20popup_dbc4b561634c49238a10323dd4f0b7da%20%3D%20L.popup%28%7B%22maxWidth%22%3A%20%22100%25%22%7D%29%3B%0A%0A%20%20%20%20%20%20%20%20%0A%20%20%20%20%20%20%20%20%20%20%20%20var%20html_4e691bdc614d47e2bc03fb07a4035743%20%3D%20%24%28%60%3Cdiv%20id%3D%22html_4e691bdc614d47e2bc03fb07a4035743%22%20style%3D%22width%3A%20100.0%25%3B%20height%3A%20100.0%25%3B%22%3E10.312%20km%3C/div%3E%60%29%5B0%5D%3B%0A%20%20%20%20%20%20%20%20%20%20%20%20popup_dbc4b561634c49238a10323dd4f0b7da.setContent%28html_4e691bdc614d47e2bc03fb07a4035743%29%3B%0A%20%20%20%20%20%20%20%20%0A%0A%20%20%20%20%20%20%20%20poly_line_27033979eb004dc3aec5238b09553a3f.bindPopup%28popup_dbc4b561634c49238a10323dd4f0b7da%29%0A%20%20%20%20%20%20%20%20%3B%0A%0A%20%20%20%20%20%20%20%20%0A%20%20%20%20%0A%3C/script%3E onload=\"this.contentDocument.open();this.contentDocument.write(    decodeURIComponent(this.getAttribute('data-html')));this.contentDocument.close();\" allowfullscreen webkitallowfullscreen mozallowfullscreen></iframe></div></div>"
            ],
            "text/plain": [
              "<folium.folium.Map at 0x7fb81cb8a910>"
            ]
          },
          "execution_count": 260,
          "metadata": {},
          "output_type": "execute_result"
        }
      ]
    },
    {
      "cell_type": "code",
      "metadata": {
        "id": "f7e1bcf8"
      },
      "source": [
        ""
      ],
      "id": "f7e1bcf8",
      "execution_count": null,
      "outputs": []
    }
  ]
}